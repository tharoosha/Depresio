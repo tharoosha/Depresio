{
 "cells": [
  {
   "cell_type": "code",
   "execution_count": 1,
   "metadata": {},
   "outputs": [],
   "source": [
    "import spotipy\n",
    "from spotipy.oauth2 import SpotifyOAuth\n",
    "\n",
    "# Replace these with your actual Spotify API credentials\n",
    "CLIENT_ID = cf.SPOTIFY_CLIENT_ID\n",
    "CLIENT_SECRET = cf.SPOTIFY_CLIENT_SECRET\n",
    "REDIRECT_URI = cf.SPOTIFY_REDIRECT_URI\n",
    "scope = 'user-library-read', 'playlist-read-private', 'user-top-read', 'user-read-recently-played'\n",
    "\n",
    "sp = spotipy.Spotify(auth_manager=SpotifyOAuth(client_id=CLIENT_ID, client_secret=CLIENT_SECRET, redirect_uri=REDIRECT_URI, scope=scope))\n",
    "\n",
    "def get_last_three_listened_tracks():\n",
    "    # Get the user's listening history (last 50 tracks)\n",
    "    listening_history = sp.current_user_recently_played(limit=50)\n",
    "\n",
    "    # Extract the last three listened track URIs\n",
    "    last_three_tracks = []\n",
    "    for item in listening_history['items'][-50:]:\n",
    "        last_three_tracks.append(item['track']['name'])\n",
    "\n",
    "    return last_three_tracks"
   ]
  },
  {
   "cell_type": "code",
   "execution_count": 2,
   "metadata": {},
   "outputs": [
    {
     "data": {
      "text/plain": [
       "[\"Freedom! '90\",\n",
       " 'It Runs Through Me (Wayo)',\n",
       " 'Agatanna (Wayo)',\n",
       " 'Seema Maayim Kadaa',\n",
       " 'Malak Nidi Mal Godak Meda',\n",
       " 'Datha Dara',\n",
       " 'Stay the Night',\n",
       " 'Dancing Feet (feat. DNCE)',\n",
       " '21 Reasons (feat. Ella Henderson)',\n",
       " 'Cold Heart - PNAU Remix',\n",
       " 'Where Did You Go? (feat. MNEK)',\n",
       " 'Words (feat. Zara Larsson)',\n",
       " 'Woke Up in Love',\n",
       " 'Don’t Wake Me Up',\n",
       " \"you don't love me anymore\",\n",
       " 'Two Weeks Ago',\n",
       " 'Heather',\n",
       " 'The Pretender',\n",
       " 'How Could You',\n",
       " 'that way',\n",
       " 'A Year Ago',\n",
       " 'Last Train To London',\n",
       " 'vampire',\n",
       " 'In The Stars',\n",
       " 'Part Of Me',\n",
       " 'Face in the Crowd',\n",
       " 'Better Man',\n",
       " 'How Do I Say Goodbye',\n",
       " 'Fat Funny Friend (sadder)',\n",
       " 'Daylight',\n",
       " 'Wish You The Best',\n",
       " 'Bigger Person']"
      ]
     },
     "execution_count": 2,
     "metadata": {},
     "output_type": "execute_result"
    }
   ],
   "source": [
    "get_last_three_listened_tracks()"
   ]
  },
  {
   "cell_type": "code",
   "execution_count": null,
   "metadata": {},
   "outputs": [],
   "source": []
  }
 ],
 "metadata": {
  "kernelspec": {
   "display_name": "Python 3",
   "language": "python",
   "name": "python3"
  },
  "language_info": {
   "codemirror_mode": {
    "name": "ipython",
    "version": 3
   },
   "file_extension": ".py",
   "mimetype": "text/x-python",
   "name": "python",
   "nbconvert_exporter": "python",
   "pygments_lexer": "ipython3",
   "version": "3.11.5"
  },
  "orig_nbformat": 4
 },
 "nbformat": 4,
 "nbformat_minor": 2
}
